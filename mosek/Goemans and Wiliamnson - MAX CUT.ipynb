{
 "cells": [
  {
   "cell_type": "code",
   "execution_count": 1,
   "metadata": {},
   "outputs": [],
   "source": [
    "import numpy as np\n",
    "import matplotlib.pyplot as plt\n",
    "from numpy.linalg import cholesky, norm\n",
    "from mosek.fusion import Matrix, Model, Domain, Expr, ObjectiveSense\n",
    "from tqdm import tqdm"
   ]
  },
  {
   "cell_type": "code",
   "execution_count": 2,
   "metadata": {},
   "outputs": [],
   "source": [
    "def load_test_graph():\n",
    "    W = np.array([\n",
    "        [0, 0, 0, 1, 1, 1],\n",
    "        [0, 0, 0, 1, 1, 1],\n",
    "        [0, 0, 0, 1, 1, 1],\n",
    "        [1, 1, 1, 0, 0, 0],\n",
    "        [1, 1, 1, 0, 0, 0],\n",
    "        [1, 1, 1, 0, 0, 0]])\n",
    "    return W\n",
    "\n",
    "\n",
    "def generate_random_graph(n, seed=23):\n",
    "    np.random.seed(seed)\n",
    "    W = np.zeros((n,n))\n",
    "    for i in range(n):\n",
    "        for j in range(i+1, n):\n",
    "            W[i,j] = W[j,i] = np.random.randint(2)\n",
    "    return W\n",
    "\n",
    "\n",
    "def solve_sdp_program(W):\n",
    "    assert W.ndim == 2\n",
    "    assert W.shape[0] == W.shape[1]\n",
    "    W = W.copy()\n",
    "    n = W.shape[0]\n",
    "    with Model('gw_max_cut') as M:\n",
    "        W = Matrix.dense(W / 4.)\n",
    "        J = Matrix.ones(n, n)\n",
    "        # variable\n",
    "        Y = M.variable('Y', Domain.inPSDCone(n))\n",
    "        # objective function\n",
    "        M.objective(ObjectiveSense.Maximize, Expr.dot(W, Expr.sub(J, Y)))\n",
    "        # constraints\n",
    "        for i in range(n):\n",
    "            M.constraint(f'c_{i}', Y.index(i, i), Domain.equalsTo(1.))\n",
    "        # solve\n",
    "        M.solve()\n",
    "        # solution\n",
    "        Y_opt = Y.level()\n",
    "    RELAX = np.reshape(Y_opt, (n,n))\n",
    "    return RELAX\n",
    "\n",
    "\n",
    "def find_cut(A, W):\n",
    "    assert A.ndim == W.ndim == 2\n",
    "    assert A.shape[0] == A.shape[1] == W.shape[0] == W.shape[1]\n",
    "    A = A.copy()\n",
    "    W = W.copy()\n",
    "    n = A.shape[0]\n",
    "    # generate random vector on ndim-sphere\n",
    "    r = np.random.normal(0, 1, n)\n",
    "    r /= norm(r)\n",
    "    # find cut\n",
    "    S, S_comp = list(), list()\n",
    "    for i in range(n): \n",
    "        if np.dot(A[i,:], r) >= 0:\n",
    "            S.append(i)\n",
    "        else:\n",
    "            S_comp.append(i)\n",
    "    # sum of cut weights\n",
    "    sum_cut_weights = 0\n",
    "    for i in S:\n",
    "        for j in S_comp:\n",
    "            sum_cut_weights += W[i][j]\n",
    "    return {\n",
    "        'S': S,\n",
    "        'S_comp': S_comp,\n",
    "        'sum_cut_weights': sum_cut_weights,\n",
    "    }"
   ]
  },
  {
   "cell_type": "code",
   "execution_count": 3,
   "metadata": {},
   "outputs": [],
   "source": [
    "W = generate_random_graph(100)\n",
    "RELAX = solve_sdp_program(W)\n",
    "A = cholesky(RELAX)\n",
    "np.random.seed(1)\n",
    "eps   = 0.00001\n",
    "alpha = 0.87856\n",
    "c = (eps * alpha) / (2 + 2 * eps - alpha)"
   ]
  },
  {
   "cell_type": "code",
   "execution_count": 4,
   "metadata": {},
   "outputs": [
    {
     "name": "stdout",
     "output_type": "stream",
     "text": [
      "127648\n"
     ]
    }
   ],
   "source": [
    "print(int(1/c + 1))"
   ]
  },
  {
   "cell_type": "code",
   "execution_count": 5,
   "metadata": {},
   "outputs": [
    {
     "name": "stderr",
     "output_type": "stream",
     "text": [
      "100%|██████████| 127648/127648 [03:17<00:00, 646.29it/s]\n"
     ]
    }
   ],
   "source": [
    "cut_sums = list()\n",
    "best_sum = -1\n",
    "best_S, best_S_comp = list(), list()\n",
    "for _ in tqdm(range(int(1/c + 1))):\n",
    "    res = find_cut(A, W)\n",
    "    cut_sum = res.get('sum_cut_weights')\n",
    "    cut_sums.append(cut_sum)\n",
    "    if cut_sum > best_sum:\n",
    "        best_sum = cut_sum\n",
    "        best_S = res.get('S')\n",
    "        best_S_comp = res.get('S_comp')"
   ]
  },
  {
   "cell_type": "code",
   "execution_count": 6,
   "metadata": {},
   "outputs": [
    {
     "name": "stdout",
     "output_type": "stream",
     "text": [
      "[3, 4, 5, 7, 8, 15, 16, 20, 21, 22, 23, 27, 28, 30, 31, 32, 33, 34, 35, 36, 37, 38, 39, 40, 41, 42, 43, 44, 45, 46, 47, 48, 50, 52, 55, 57, 58, 59, 62, 64, 66, 67, 78, 80, 83, 85, 89, 91, 95, 96, 99]\n"
     ]
    }
   ],
   "source": [
    "print(best_S)"
   ]
  },
  {
   "cell_type": "code",
   "execution_count": 7,
   "metadata": {},
   "outputs": [
    {
     "name": "stdout",
     "output_type": "stream",
     "text": [
      "[0, 1, 2, 6, 9, 10, 11, 12, 13, 14, 17, 18, 19, 24, 25, 26, 29, 49, 51, 53, 54, 56, 60, 61, 63, 65, 68, 69, 70, 71, 72, 73, 74, 75, 76, 77, 79, 81, 82, 84, 86, 87, 88, 90, 92, 93, 94, 97, 98]\n"
     ]
    }
   ],
   "source": [
    "print(best_S_comp)"
   ]
  },
  {
   "cell_type": "code",
   "execution_count": 8,
   "metadata": {},
   "outputs": [
    {
     "name": "stdout",
     "output_type": "stream",
     "text": [
      "1422.0\n"
     ]
    }
   ],
   "source": [
    "print(best_sum)"
   ]
  },
  {
   "cell_type": "code",
   "execution_count": 9,
   "metadata": {},
   "outputs": [
    {
     "data": {
      "image/png": "[encoded data removed]",
      "text/plain": [
       "<Figure size 432x288 with 1 Axes>"
      ]
     },
     "metadata": {
      "needs_background": "light"
     },
     "output_type": "display_data"
    }
   ],
   "source": [
    "plt.hist(cut_sums, len(list(set(cut_sums))), alpha=0.75)\n",
    "plt.show()"
   ]
  },
  {
   "cell_type": "code",
   "execution_count": null,
   "metadata": {},
   "outputs": [],
   "source": []
  }
 ],
 "metadata": {
  "kernelspec": {
   "display_name": "Python 3",
   "language": "python",
   "name": "python3"
  },
  "language_info": {
   "codemirror_mode": {
    "name": "ipython",
    "version": 3
   },
   "file_extension": ".py",
   "mimetype": "text/x-python",
   "name": "python",
   "nbconvert_exporter": "python",
   "pygments_lexer": "ipython3",
   "version": "3.7.6"
  },
  "latex_envs": {
   "LaTeX_envs_menu_present": true,
   "autoclose": false,
   "autocomplete": true,
   "bibliofile": "biblio.bib",
   "cite_by": "apalike",
   "current_citInitial": 1,
   "eqLabelWithNumbers": true,
   "eqNumInitial": 1,
   "hotkeys": {
    "equation": "Ctrl-E",
    "itemize": "Ctrl-I"
   },
   "labels_anchors": false,
   "latex_user_defs": false,
   "report_style_numbering": false,
   "user_envs_cfg": false
  }
 },
 "nbformat": 4,
 "nbformat_minor": 4
}
